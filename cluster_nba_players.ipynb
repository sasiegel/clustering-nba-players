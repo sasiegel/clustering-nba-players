{
 "cells": [
  {
   "cell_type": "markdown",
   "metadata": {},
   "source": [
    "# NBA positions are out of date. Can we update them?"
   ]
  },
  {
   "cell_type": "markdown",
   "metadata": {},
   "source": [
    "Let's use clustering to find some natural grouping of players. The features are gathered from stats.nba.com. The features will look different than typical basketball statistics. Usually the statistics ESPN puts on the screen are measuring how well the player executes. Consider field goal percentage (FG%) which measures what percentage of shots are made. This statistic is measuring how well a player can make baskets. But what if we're more interested in *how often* the player shoots. This is not measuring their ability to execute but their role on the team. The features used in this analysis follow the same trend."
   ]
  },
  {
   "cell_type": "code",
   "execution_count": 1,
   "metadata": {},
   "outputs": [],
   "source": [
    "import pandas as pd\n",
    "from sklearn.cluster import KMeans\n",
    "from sklearn.cluster import DBSCAN\n",
    "from sklearn.mixture import GaussianMixture\n",
    "import numpy as np\n",
    "import matplotlib.pyplot as plt"
   ]
  },
  {
   "cell_type": "code",
   "execution_count": 2,
   "metadata": {},
   "outputs": [],
   "source": [
    "df = pd.read_csv('C:/projects/summer2020/nba-clustering/data/data(w_FGA).csv')\n",
    "df = df.fillna(value=0)\n",
    "df = df.set_index('PLAYER')\n",
    "minutes_played = df['MIN']\n",
    "X = df.drop(columns='MIN')"
   ]
  },
  {
   "cell_type": "code",
   "execution_count": 3,
   "metadata": {
    "scrolled": true
   },
   "outputs": [
    {
     "data": {
      "text/html": [
       "<div>\n",
       "<style scoped>\n",
       "    .dataframe tbody tr th:only-of-type {\n",
       "        vertical-align: middle;\n",
       "    }\n",
       "\n",
       "    .dataframe tbody tr th {\n",
       "        vertical-align: top;\n",
       "    }\n",
       "\n",
       "    .dataframe thead th {\n",
       "        text-align: right;\n",
       "    }\n",
       "</style>\n",
       "<table border=\"1\" class=\"dataframe\">\n",
       "  <thead>\n",
       "    <tr style=\"text-align: right;\">\n",
       "      <th></th>\n",
       "      <th>HEIGHT</th>\n",
       "      <th>WEIGHT</th>\n",
       "      <th>FGA</th>\n",
       "      <th>FGA (LESS THAN 8FT)</th>\n",
       "      <th>FGA (8-16 FT)</th>\n",
       "      <th>FGA (16-24 FT)</th>\n",
       "      <th>FGA (24+ FT)</th>\n",
       "      <th>OFF BOX OUTS</th>\n",
       "      <th>DEF BOX OUTS</th>\n",
       "      <th>ISO %</th>\n",
       "      <th>...</th>\n",
       "      <th>DIST MILES DEF</th>\n",
       "      <th>DFGA</th>\n",
       "      <th>TOUCHES</th>\n",
       "      <th>FRONT CT TOUCHES</th>\n",
       "      <th>TIME OF POSS</th>\n",
       "      <th>AVG SEC/TOUCH</th>\n",
       "      <th>AVG DRIB/TOUCH</th>\n",
       "      <th>ELBOW TOUCHES</th>\n",
       "      <th>POST UPS</th>\n",
       "      <th>PAINT TOUCHES</th>\n",
       "    </tr>\n",
       "    <tr>\n",
       "      <th>PLAYER</th>\n",
       "      <th></th>\n",
       "      <th></th>\n",
       "      <th></th>\n",
       "      <th></th>\n",
       "      <th></th>\n",
       "      <th></th>\n",
       "      <th></th>\n",
       "      <th></th>\n",
       "      <th></th>\n",
       "      <th></th>\n",
       "      <th></th>\n",
       "      <th></th>\n",
       "      <th></th>\n",
       "      <th></th>\n",
       "      <th></th>\n",
       "      <th></th>\n",
       "      <th></th>\n",
       "      <th></th>\n",
       "      <th></th>\n",
       "      <th></th>\n",
       "      <th></th>\n",
       "    </tr>\n",
       "  </thead>\n",
       "  <tbody>\n",
       "    <tr>\n",
       "      <td>Aaron Gordon</td>\n",
       "      <td>0.55</td>\n",
       "      <td>0.496689</td>\n",
       "      <td>0.379310</td>\n",
       "      <td>0.422865</td>\n",
       "      <td>0.180441</td>\n",
       "      <td>0.085399</td>\n",
       "      <td>0.303030</td>\n",
       "      <td>0.098048</td>\n",
       "      <td>0.053292</td>\n",
       "      <td>0.055</td>\n",
       "      <td>...</td>\n",
       "      <td>0.666667</td>\n",
       "      <td>0.303566</td>\n",
       "      <td>0.533446</td>\n",
       "      <td>0.504586</td>\n",
       "      <td>0.300236</td>\n",
       "      <td>0.452830</td>\n",
       "      <td>0.280650</td>\n",
       "      <td>0.220778</td>\n",
       "      <td>0.294329</td>\n",
       "      <td>0.293452</td>\n",
       "    </tr>\n",
       "    <tr>\n",
       "      <td>Aaron Holiday</td>\n",
       "      <td>0.15</td>\n",
       "      <td>0.165563</td>\n",
       "      <td>0.362573</td>\n",
       "      <td>0.358871</td>\n",
       "      <td>0.125000</td>\n",
       "      <td>0.106855</td>\n",
       "      <td>0.407258</td>\n",
       "      <td>0.019597</td>\n",
       "      <td>0.070175</td>\n",
       "      <td>0.070</td>\n",
       "      <td>...</td>\n",
       "      <td>0.709064</td>\n",
       "      <td>0.432599</td>\n",
       "      <td>0.568122</td>\n",
       "      <td>0.415738</td>\n",
       "      <td>0.496701</td>\n",
       "      <td>0.702830</td>\n",
       "      <td>0.638109</td>\n",
       "      <td>0.017321</td>\n",
       "      <td>0.000000</td>\n",
       "      <td>0.033812</td>\n",
       "    </tr>\n",
       "    <tr>\n",
       "      <td>Abdel Nader</td>\n",
       "      <td>0.40</td>\n",
       "      <td>0.430464</td>\n",
       "      <td>0.291005</td>\n",
       "      <td>0.431818</td>\n",
       "      <td>0.054545</td>\n",
       "      <td>0.036364</td>\n",
       "      <td>0.477273</td>\n",
       "      <td>0.000000</td>\n",
       "      <td>0.097884</td>\n",
       "      <td>0.000</td>\n",
       "      <td>...</td>\n",
       "      <td>0.740741</td>\n",
       "      <td>0.360535</td>\n",
       "      <td>0.323396</td>\n",
       "      <td>0.382431</td>\n",
       "      <td>0.128399</td>\n",
       "      <td>0.322327</td>\n",
       "      <td>0.209749</td>\n",
       "      <td>0.067910</td>\n",
       "      <td>0.004117</td>\n",
       "      <td>0.055357</td>\n",
       "    </tr>\n",
       "    <tr>\n",
       "      <td>Adam Mokoka</td>\n",
       "      <td>0.40</td>\n",
       "      <td>0.198675</td>\n",
       "      <td>0.250000</td>\n",
       "      <td>0.428571</td>\n",
       "      <td>0.000000</td>\n",
       "      <td>0.035714</td>\n",
       "      <td>0.535714</td>\n",
       "      <td>0.359049</td>\n",
       "      <td>0.107143</td>\n",
       "      <td>0.000</td>\n",
       "      <td>...</td>\n",
       "      <td>0.750000</td>\n",
       "      <td>0.388049</td>\n",
       "      <td>0.331284</td>\n",
       "      <td>0.389459</td>\n",
       "      <td>0.104003</td>\n",
       "      <td>0.231132</td>\n",
       "      <td>0.122600</td>\n",
       "      <td>0.070522</td>\n",
       "      <td>0.000000</td>\n",
       "      <td>0.176996</td>\n",
       "    </tr>\n",
       "    <tr>\n",
       "      <td>Admiral Schofield</td>\n",
       "      <td>0.40</td>\n",
       "      <td>0.536424</td>\n",
       "      <td>0.255973</td>\n",
       "      <td>0.293333</td>\n",
       "      <td>0.066667</td>\n",
       "      <td>0.013333</td>\n",
       "      <td>0.613333</td>\n",
       "      <td>0.045749</td>\n",
       "      <td>0.211604</td>\n",
       "      <td>0.000</td>\n",
       "      <td>...</td>\n",
       "      <td>0.675768</td>\n",
       "      <td>0.372364</td>\n",
       "      <td>0.477139</td>\n",
       "      <td>0.404625</td>\n",
       "      <td>0.132518</td>\n",
       "      <td>0.218553</td>\n",
       "      <td>0.069424</td>\n",
       "      <td>0.067393</td>\n",
       "      <td>0.063735</td>\n",
       "      <td>0.135314</td>\n",
       "    </tr>\n",
       "    <tr>\n",
       "      <td>...</td>\n",
       "      <td>...</td>\n",
       "      <td>...</td>\n",
       "      <td>...</td>\n",
       "      <td>...</td>\n",
       "      <td>...</td>\n",
       "      <td>...</td>\n",
       "      <td>...</td>\n",
       "      <td>...</td>\n",
       "      <td>...</td>\n",
       "      <td>...</td>\n",
       "      <td>...</td>\n",
       "      <td>...</td>\n",
       "      <td>...</td>\n",
       "      <td>...</td>\n",
       "      <td>...</td>\n",
       "      <td>...</td>\n",
       "      <td>...</td>\n",
       "      <td>...</td>\n",
       "      <td>...</td>\n",
       "      <td>...</td>\n",
       "      <td>...</td>\n",
       "    </tr>\n",
       "    <tr>\n",
       "      <td>Zach LaVine</td>\n",
       "      <td>0.45</td>\n",
       "      <td>0.264901</td>\n",
       "      <td>0.575060</td>\n",
       "      <td>0.443703</td>\n",
       "      <td>0.059216</td>\n",
       "      <td>0.092577</td>\n",
       "      <td>0.402836</td>\n",
       "      <td>0.025716</td>\n",
       "      <td>0.046043</td>\n",
       "      <td>0.114</td>\n",
       "      <td>...</td>\n",
       "      <td>0.711751</td>\n",
       "      <td>0.264773</td>\n",
       "      <td>0.643818</td>\n",
       "      <td>0.599991</td>\n",
       "      <td>0.506531</td>\n",
       "      <td>0.633648</td>\n",
       "      <td>0.488922</td>\n",
       "      <td>0.081447</td>\n",
       "      <td>0.029855</td>\n",
       "      <td>0.089795</td>\n",
       "    </tr>\n",
       "    <tr>\n",
       "      <td>Zach Norvell Jr.</td>\n",
       "      <td>0.40</td>\n",
       "      <td>0.298013</td>\n",
       "      <td>0.292683</td>\n",
       "      <td>0.000000</td>\n",
       "      <td>0.166667</td>\n",
       "      <td>0.166667</td>\n",
       "      <td>0.666667</td>\n",
       "      <td>0.000000</td>\n",
       "      <td>0.000000</td>\n",
       "      <td>0.000</td>\n",
       "      <td>...</td>\n",
       "      <td>0.682927</td>\n",
       "      <td>0.250156</td>\n",
       "      <td>0.420164</td>\n",
       "      <td>0.436467</td>\n",
       "      <td>0.189404</td>\n",
       "      <td>0.311321</td>\n",
       "      <td>0.202363</td>\n",
       "      <td>0.000000</td>\n",
       "      <td>0.075912</td>\n",
       "      <td>0.107445</td>\n",
       "    </tr>\n",
       "    <tr>\n",
       "      <td>Zhaire Smith</td>\n",
       "      <td>0.30</td>\n",
       "      <td>0.298013</td>\n",
       "      <td>0.343750</td>\n",
       "      <td>0.545455</td>\n",
       "      <td>0.090909</td>\n",
       "      <td>0.090909</td>\n",
       "      <td>0.272727</td>\n",
       "      <td>0.000000</td>\n",
       "      <td>0.062500</td>\n",
       "      <td>0.000</td>\n",
       "      <td>...</td>\n",
       "      <td>0.812500</td>\n",
       "      <td>0.268429</td>\n",
       "      <td>0.258815</td>\n",
       "      <td>0.349514</td>\n",
       "      <td>0.121337</td>\n",
       "      <td>0.261006</td>\n",
       "      <td>0.112260</td>\n",
       "      <td>0.000000</td>\n",
       "      <td>0.000000</td>\n",
       "      <td>0.137663</td>\n",
       "    </tr>\n",
       "    <tr>\n",
       "      <td>Zion Williamson</td>\n",
       "      <td>0.45</td>\n",
       "      <td>0.821192</td>\n",
       "      <td>0.516814</td>\n",
       "      <td>0.907534</td>\n",
       "      <td>0.034247</td>\n",
       "      <td>0.013699</td>\n",
       "      <td>0.044521</td>\n",
       "      <td>0.047450</td>\n",
       "      <td>0.070796</td>\n",
       "      <td>0.048</td>\n",
       "      <td>...</td>\n",
       "      <td>0.679646</td>\n",
       "      <td>0.405945</td>\n",
       "      <td>0.499564</td>\n",
       "      <td>0.580008</td>\n",
       "      <td>0.178677</td>\n",
       "      <td>0.287736</td>\n",
       "      <td>0.159527</td>\n",
       "      <td>0.440359</td>\n",
       "      <td>0.749182</td>\n",
       "      <td>0.674429</td>\n",
       "    </tr>\n",
       "    <tr>\n",
       "      <td>Zylan Cheatham</td>\n",
       "      <td>0.40</td>\n",
       "      <td>0.397351</td>\n",
       "      <td>0.161290</td>\n",
       "      <td>0.600000</td>\n",
       "      <td>0.200000</td>\n",
       "      <td>0.000000</td>\n",
       "      <td>0.200000</td>\n",
       "      <td>0.432403</td>\n",
       "      <td>0.000000</td>\n",
       "      <td>0.000</td>\n",
       "      <td>...</td>\n",
       "      <td>0.709677</td>\n",
       "      <td>0.599669</td>\n",
       "      <td>0.427463</td>\n",
       "      <td>0.342749</td>\n",
       "      <td>0.125251</td>\n",
       "      <td>0.191824</td>\n",
       "      <td>0.047267</td>\n",
       "      <td>0.636976</td>\n",
       "      <td>0.000000</td>\n",
       "      <td>0.213156</td>\n",
       "    </tr>\n",
       "  </tbody>\n",
       "</table>\n",
       "<p>514 rows × 24 columns</p>\n",
       "</div>"
      ],
      "text/plain": [
       "                   HEIGHT    WEIGHT       FGA  FGA (LESS THAN 8FT)  \\\n",
       "PLAYER                                                               \n",
       "Aaron Gordon         0.55  0.496689  0.379310             0.422865   \n",
       "Aaron Holiday        0.15  0.165563  0.362573             0.358871   \n",
       "Abdel Nader          0.40  0.430464  0.291005             0.431818   \n",
       "Adam Mokoka          0.40  0.198675  0.250000             0.428571   \n",
       "Admiral Schofield    0.40  0.536424  0.255973             0.293333   \n",
       "...                   ...       ...       ...                  ...   \n",
       "Zach LaVine          0.45  0.264901  0.575060             0.443703   \n",
       "Zach Norvell Jr.     0.40  0.298013  0.292683             0.000000   \n",
       "Zhaire Smith         0.30  0.298013  0.343750             0.545455   \n",
       "Zion Williamson      0.45  0.821192  0.516814             0.907534   \n",
       "Zylan Cheatham       0.40  0.397351  0.161290             0.600000   \n",
       "\n",
       "                   FGA (8-16 FT)  FGA (16-24 FT)  FGA (24+ FT)  OFF BOX OUTS  \\\n",
       "PLAYER                                                                         \n",
       "Aaron Gordon            0.180441        0.085399      0.303030      0.098048   \n",
       "Aaron Holiday           0.125000        0.106855      0.407258      0.019597   \n",
       "Abdel Nader             0.054545        0.036364      0.477273      0.000000   \n",
       "Adam Mokoka             0.000000        0.035714      0.535714      0.359049   \n",
       "Admiral Schofield       0.066667        0.013333      0.613333      0.045749   \n",
       "...                          ...             ...           ...           ...   \n",
       "Zach LaVine             0.059216        0.092577      0.402836      0.025716   \n",
       "Zach Norvell Jr.        0.166667        0.166667      0.666667      0.000000   \n",
       "Zhaire Smith            0.090909        0.090909      0.272727      0.000000   \n",
       "Zion Williamson         0.034247        0.013699      0.044521      0.047450   \n",
       "Zylan Cheatham          0.200000        0.000000      0.200000      0.432403   \n",
       "\n",
       "                   DEF BOX OUTS  ISO %  ...  DIST MILES DEF      DFGA  \\\n",
       "PLAYER                                  ...                             \n",
       "Aaron Gordon           0.053292  0.055  ...        0.666667  0.303566   \n",
       "Aaron Holiday          0.070175  0.070  ...        0.709064  0.432599   \n",
       "Abdel Nader            0.097884  0.000  ...        0.740741  0.360535   \n",
       "Adam Mokoka            0.107143  0.000  ...        0.750000  0.388049   \n",
       "Admiral Schofield      0.211604  0.000  ...        0.675768  0.372364   \n",
       "...                         ...    ...  ...             ...       ...   \n",
       "Zach LaVine            0.046043  0.114  ...        0.711751  0.264773   \n",
       "Zach Norvell Jr.       0.000000  0.000  ...        0.682927  0.250156   \n",
       "Zhaire Smith           0.062500  0.000  ...        0.812500  0.268429   \n",
       "Zion Williamson        0.070796  0.048  ...        0.679646  0.405945   \n",
       "Zylan Cheatham         0.000000  0.000  ...        0.709677  0.599669   \n",
       "\n",
       "                    TOUCHES  FRONT CT TOUCHES  TIME OF POSS  AVG SEC/TOUCH  \\\n",
       "PLAYER                                                                       \n",
       "Aaron Gordon       0.533446          0.504586      0.300236       0.452830   \n",
       "Aaron Holiday      0.568122          0.415738      0.496701       0.702830   \n",
       "Abdel Nader        0.323396          0.382431      0.128399       0.322327   \n",
       "Adam Mokoka        0.331284          0.389459      0.104003       0.231132   \n",
       "Admiral Schofield  0.477139          0.404625      0.132518       0.218553   \n",
       "...                     ...               ...           ...            ...   \n",
       "Zach LaVine        0.643818          0.599991      0.506531       0.633648   \n",
       "Zach Norvell Jr.   0.420164          0.436467      0.189404       0.311321   \n",
       "Zhaire Smith       0.258815          0.349514      0.121337       0.261006   \n",
       "Zion Williamson    0.499564          0.580008      0.178677       0.287736   \n",
       "Zylan Cheatham     0.427463          0.342749      0.125251       0.191824   \n",
       "\n",
       "                   AVG DRIB/TOUCH  ELBOW TOUCHES  POST UPS  PAINT TOUCHES  \n",
       "PLAYER                                                                     \n",
       "Aaron Gordon             0.280650       0.220778  0.294329       0.293452  \n",
       "Aaron Holiday            0.638109       0.017321  0.000000       0.033812  \n",
       "Abdel Nader              0.209749       0.067910  0.004117       0.055357  \n",
       "Adam Mokoka              0.122600       0.070522  0.000000       0.176996  \n",
       "Admiral Schofield        0.069424       0.067393  0.063735       0.135314  \n",
       "...                           ...            ...       ...            ...  \n",
       "Zach LaVine              0.488922       0.081447  0.029855       0.089795  \n",
       "Zach Norvell Jr.         0.202363       0.000000  0.075912       0.107445  \n",
       "Zhaire Smith             0.112260       0.000000  0.000000       0.137663  \n",
       "Zion Williamson          0.159527       0.440359  0.749182       0.674429  \n",
       "Zylan Cheatham           0.047267       0.636976  0.000000       0.213156  \n",
       "\n",
       "[514 rows x 24 columns]"
      ]
     },
     "execution_count": 3,
     "metadata": {},
     "output_type": "execute_result"
    }
   ],
   "source": [
    "X"
   ]
  },
  {
   "cell_type": "code",
   "execution_count": 4,
   "metadata": {},
   "outputs": [
    {
     "data": {
      "image/png": "[encoded data removed]",
      "text/plain": [
       "<Figure size 432x288 with 1 Axes>"
      ]
     },
     "metadata": {
      "needs_background": "light"
     },
     "output_type": "display_data"
    }
   ],
   "source": [
    "%matplotlib inline\n",
    "possible_k = list(range(1,11))\n",
    "inertia = []\n",
    "for k in possible_k:\n",
    "    temp_kmeans = KMeans(n_clusters=k).fit(X)\n",
    "    inertia.append(temp_kmeans.inertia_)\n",
    "plt.bar(possible_k, inertia, color='darkorange', width=0.5)\n",
    "plt.show()"
   ]
  },
  {
   "cell_type": "code",
   "execution_count": 5,
   "metadata": {},
   "outputs": [],
   "source": [
    "k = 3\n",
    "kmeans = KMeans(n_clusters=k).fit(X)\n",
    "labels = kmeans.labels_\n",
    "minutes_played = minutes_played.to_frame()\n",
    "minutes_played.insert(1, 'LABELS', labels)"
   ]
  },
  {
   "cell_type": "code",
   "execution_count": 6,
   "metadata": {},
   "outputs": [],
   "source": [
    "def get_top_players(df, label):\n",
    "    df_label = df[df['LABELS'] == label]\n",
    "    top_10_bool = df_label.loc[:, 'MIN'].rank(ascending=False, method='first') <= 10.0\n",
    "    top_10 = df_label[top_10_bool].sort_values(by='MIN', ascending=False)\n",
    "    return list(top_10.index)"
   ]
  },
  {
   "cell_type": "code",
   "execution_count": 7,
   "metadata": {
    "scrolled": true
   },
   "outputs": [
    {
     "data": {
      "text/html": [
       "<div>\n",
       "<style scoped>\n",
       "    .dataframe tbody tr th:only-of-type {\n",
       "        vertical-align: middle;\n",
       "    }\n",
       "\n",
       "    .dataframe tbody tr th {\n",
       "        vertical-align: top;\n",
       "    }\n",
       "\n",
       "    .dataframe thead th {\n",
       "        text-align: right;\n",
       "    }\n",
       "</style>\n",
       "<table border=\"1\" class=\"dataframe\">\n",
       "  <thead>\n",
       "    <tr style=\"text-align: right;\">\n",
       "      <th></th>\n",
       "      <th>0</th>\n",
       "      <th>1</th>\n",
       "      <th>2</th>\n",
       "    </tr>\n",
       "  </thead>\n",
       "  <tbody>\n",
       "    <tr>\n",
       "      <td>0</td>\n",
       "      <td>Devin Booker</td>\n",
       "      <td>Tobias Harris</td>\n",
       "      <td>Bam Adebayo</td>\n",
       "    </tr>\n",
       "    <tr>\n",
       "      <td>1</td>\n",
       "      <td>James Harden</td>\n",
       "      <td>Harrison Barnes</td>\n",
       "      <td>Domantas Sabonis</td>\n",
       "    </tr>\n",
       "    <tr>\n",
       "      <td>2</td>\n",
       "      <td>CJ McCollum</td>\n",
       "      <td>P.J. Tucker</td>\n",
       "      <td>Rudy Gobert</td>\n",
       "    </tr>\n",
       "    <tr>\n",
       "      <td>3</td>\n",
       "      <td>Shai Gilgeous-Alexander</td>\n",
       "      <td>Bojan Bogdanovic</td>\n",
       "      <td>Nikola Jokic</td>\n",
       "    </tr>\n",
       "    <tr>\n",
       "      <td>4</td>\n",
       "      <td>Devonte' Graham</td>\n",
       "      <td>Jayson Tatum</td>\n",
       "      <td>Julius Randle</td>\n",
       "    </tr>\n",
       "    <tr>\n",
       "      <td>5</td>\n",
       "      <td>Donovan Mitchell</td>\n",
       "      <td>De'Andre Hunter</td>\n",
       "      <td>Hassan Whiteside</td>\n",
       "    </tr>\n",
       "    <tr>\n",
       "      <td>6</td>\n",
       "      <td>Terry Rozier</td>\n",
       "      <td>Miles Bridges</td>\n",
       "      <td>Anthony Davis</td>\n",
       "    </tr>\n",
       "    <tr>\n",
       "      <td>7</td>\n",
       "      <td>Collin Sexton</td>\n",
       "      <td>T.J. Warren</td>\n",
       "      <td>Andre Drummond</td>\n",
       "    </tr>\n",
       "    <tr>\n",
       "      <td>8</td>\n",
       "      <td>Damian Lillard</td>\n",
       "      <td>Duncan Robinson</td>\n",
       "      <td>Al Horford</td>\n",
       "    </tr>\n",
       "    <tr>\n",
       "      <td>9</td>\n",
       "      <td>Trae Young</td>\n",
       "      <td>Joe Harris</td>\n",
       "      <td>Giannis Antetokounmpo</td>\n",
       "    </tr>\n",
       "  </tbody>\n",
       "</table>\n",
       "</div>"
      ],
      "text/plain": [
       "                         0                 1                      2\n",
       "0             Devin Booker     Tobias Harris            Bam Adebayo\n",
       "1             James Harden   Harrison Barnes       Domantas Sabonis\n",
       "2              CJ McCollum       P.J. Tucker            Rudy Gobert\n",
       "3  Shai Gilgeous-Alexander  Bojan Bogdanovic           Nikola Jokic\n",
       "4          Devonte' Graham      Jayson Tatum          Julius Randle\n",
       "5         Donovan Mitchell   De'Andre Hunter       Hassan Whiteside\n",
       "6             Terry Rozier     Miles Bridges          Anthony Davis\n",
       "7            Collin Sexton       T.J. Warren         Andre Drummond\n",
       "8           Damian Lillard   Duncan Robinson             Al Horford\n",
       "9               Trae Young        Joe Harris  Giannis Antetokounmpo"
      ]
     },
     "execution_count": 7,
     "metadata": {},
     "output_type": "execute_result"
    }
   ],
   "source": [
    "top_10_lists = []\n",
    "for label in range(k):\n",
    "    top_10_lists.append(get_top_players(minutes_played, label))\n",
    "pd.DataFrame(top_10_lists).transpose()"
   ]
  },
  {
   "cell_type": "code",
   "execution_count": 8,
   "metadata": {},
   "outputs": [
    {
     "name": "stdout",
     "output_type": "stream",
     "text": [
      "Group 0: 140 elements\n",
      "Group 1: 251 elements\n",
      "Group 2: 123 elements\n"
     ]
    },
    {
     "data": {
      "text/plain": [
       "[None, None, None]"
      ]
     },
     "execution_count": 8,
     "metadata": {},
     "output_type": "execute_result"
    }
   ],
   "source": [
    "cluster, counts = np.unique(labels, return_counts=True)\n",
    "[print('Group ' + str(cluster[i]) + ': ' + str(counts[i]) + ' elements') for i in range(len(cluster))]"
   ]
  },
  {
   "cell_type": "code",
   "execution_count": 9,
   "metadata": {},
   "outputs": [],
   "source": [
    "labeled_X = X.copy()\n",
    "labeled_X.insert(0, 'LABELS', labels)"
   ]
  },
  {
   "cell_type": "markdown",
   "metadata": {},
   "source": [
    "Let's look at the data distribution for each cluster, feature combination. Each feature has three lines, a blue line for cluster 0, gold line for cluster 1, and magenta line for cluster 2. The line begins at the 25th percentile of the cluster's distribution over the feature. The line ends at the 75th percentile. The point on the line is the mean of the data."
   ]
  },
  {
   "cell_type": "code",
   "execution_count": 10,
   "metadata": {},
   "outputs": [
    {
     "data": {
      "text/plain": [
       "Index(['HEIGHT', 'WEIGHT', 'MIN', 'FGA', 'FGA (LESS THAN 8FT)',\n",
       "       'FGA (8-16 FT)', 'FGA (16-24 FT)', 'FGA (24+ FT)', 'OFF BOX OUTS',\n",
       "       'DEF BOX OUTS', 'ISO %', 'ROLL-HANDLE %', 'ROLL-MAN %', 'POST-UP %',\n",
       "       'DIST MILES OFF', 'DIST MILES DEF', 'DFGA', 'TOUCHES',\n",
       "       'FRONT CT TOUCHES', 'TIME OF POSS', 'AVG SEC/TOUCH', 'AVG DRIB/TOUCH',\n",
       "       'ELBOW TOUCHES', 'POST UPS', 'PAINT TOUCHES'],\n",
       "      dtype='object')"
      ]
     },
     "execution_count": 10,
     "metadata": {},
     "output_type": "execute_result"
    }
   ],
   "source": [
    "df.columns"
   ]
  },
  {
   "cell_type": "code",
   "execution_count": 13,
   "metadata": {
    "scrolled": false
   },
   "outputs": [
    {
     "data": {
      "image/png": "[encoded data removed]",
      "text/plain": [
       "<Figure size 1440x288 with 3 Axes>"
      ]
     },
     "metadata": {
      "needs_background": "light"
     },
     "output_type": "display_data"
    }
   ],
   "source": [
    "median_k = np.median(list(range(k)))\n",
    "line_colors = ['c', 'darkorange', 'm']\n",
    "fig, axs = plt.subplots(ncols=3, figsize=(20, 4))\n",
    "feature_list = list(df.columns)\n",
    "feature_list.remove('MIN')\n",
    "for p in range(3):\n",
    "    var_names = feature_list[8*p : 8*(p+1)]\n",
    "    for i in range(k):\n",
    "        temp_df = labeled_X[labeled_X['LABELS'] == i]\n",
    "        for j in range((8*p+1), 8*(p+1)+1):\n",
    "            feat_num = j\n",
    "            col_data = temp_df.iloc[:,feat_num]\n",
    "            col_stats = col_data.describe()\n",
    "            x_val = feat_num + 0.1*(i - median_k)\n",
    "            axs[p].plot([x_val, x_val], [col_stats['25%'], col_stats['75%']], line_colors[i], linewidth=2)\n",
    "            axs[p].plot(x_val, col_stats['mean'], 'k.')\n",
    "            axs[p].set_ylim([0,1])\n",
    "    axs[p].set_xticklabels(['']+var_names)\n",
    "    plt.setp(axs[p].xaxis.get_majorticklabels(), rotation=70)\n"
   ]
  },
  {
   "cell_type": "markdown",
   "metadata": {},
   "source": [
    "There are a number of interesting observations from these plots. \n",
    "1. The first is the miles traveled on both offense and defense are similar between the three clusters.\n",
    "2. Some of the features could be redundant i.e. the POST-UP% and POST UPS.\n",
    "\n",
    "I will remove some of the features and run it again to see how the results differ."
   ]
  },
  {
   "cell_type": "code",
   "execution_count": 14,
   "metadata": {},
   "outputs": [],
   "source": [
    "new_X = df.drop(columns=['MIN', 'POST-UP %', 'DIST MILES OFF', 'DIST MILES DEF'])"
   ]
  },
  {
   "cell_type": "code",
   "execution_count": 22,
   "metadata": {},
   "outputs": [],
   "source": [
    "k = 3\n",
    "kmeans = KMeans(n_clusters=k).fit(new_X)\n",
    "labels = kmeans.labels_\n",
    "minutes_played = df['MIN']\n",
    "minutes_played = minutes_played.to_frame()\n",
    "minutes_played.insert(1, 'LABELS', labels)"
   ]
  },
  {
   "cell_type": "code",
   "execution_count": 23,
   "metadata": {
    "scrolled": true
   },
   "outputs": [
    {
     "data": {
      "text/html": [
       "<div>\n",
       "<style scoped>\n",
       "    .dataframe tbody tr th:only-of-type {\n",
       "        vertical-align: middle;\n",
       "    }\n",
       "\n",
       "    .dataframe tbody tr th {\n",
       "        vertical-align: top;\n",
       "    }\n",
       "\n",
       "    .dataframe thead th {\n",
       "        text-align: right;\n",
       "    }\n",
       "</style>\n",
       "<table border=\"1\" class=\"dataframe\">\n",
       "  <thead>\n",
       "    <tr style=\"text-align: right;\">\n",
       "      <th></th>\n",
       "      <th>0</th>\n",
       "      <th>1</th>\n",
       "      <th>2</th>\n",
       "    </tr>\n",
       "  </thead>\n",
       "  <tbody>\n",
       "    <tr>\n",
       "      <td>0</td>\n",
       "      <td>Devin Booker</td>\n",
       "      <td>Tobias Harris</td>\n",
       "      <td>Bam Adebayo</td>\n",
       "    </tr>\n",
       "    <tr>\n",
       "      <td>1</td>\n",
       "      <td>James Harden</td>\n",
       "      <td>Harrison Barnes</td>\n",
       "      <td>Domantas Sabonis</td>\n",
       "    </tr>\n",
       "    <tr>\n",
       "      <td>2</td>\n",
       "      <td>CJ McCollum</td>\n",
       "      <td>P.J. Tucker</td>\n",
       "      <td>Rudy Gobert</td>\n",
       "    </tr>\n",
       "    <tr>\n",
       "      <td>3</td>\n",
       "      <td>Shai Gilgeous-Alexander</td>\n",
       "      <td>Bojan Bogdanovic</td>\n",
       "      <td>Nikola Jokic</td>\n",
       "    </tr>\n",
       "    <tr>\n",
       "      <td>4</td>\n",
       "      <td>Devonte' Graham</td>\n",
       "      <td>Jayson Tatum</td>\n",
       "      <td>Julius Randle</td>\n",
       "    </tr>\n",
       "    <tr>\n",
       "      <td>5</td>\n",
       "      <td>Donovan Mitchell</td>\n",
       "      <td>De'Andre Hunter</td>\n",
       "      <td>Hassan Whiteside</td>\n",
       "    </tr>\n",
       "    <tr>\n",
       "      <td>6</td>\n",
       "      <td>Terry Rozier</td>\n",
       "      <td>Miles Bridges</td>\n",
       "      <td>Anthony Davis</td>\n",
       "    </tr>\n",
       "    <tr>\n",
       "      <td>7</td>\n",
       "      <td>Collin Sexton</td>\n",
       "      <td>T.J. Warren</td>\n",
       "      <td>Andre Drummond</td>\n",
       "    </tr>\n",
       "    <tr>\n",
       "      <td>8</td>\n",
       "      <td>Damian Lillard</td>\n",
       "      <td>Duncan Robinson</td>\n",
       "      <td>Al Horford</td>\n",
       "    </tr>\n",
       "    <tr>\n",
       "      <td>9</td>\n",
       "      <td>Trae Young</td>\n",
       "      <td>Joe Harris</td>\n",
       "      <td>Giannis Antetokounmpo</td>\n",
       "    </tr>\n",
       "  </tbody>\n",
       "</table>\n",
       "</div>"
      ],
      "text/plain": [
       "                         0                 1                      2\n",
       "0             Devin Booker     Tobias Harris            Bam Adebayo\n",
       "1             James Harden   Harrison Barnes       Domantas Sabonis\n",
       "2              CJ McCollum       P.J. Tucker            Rudy Gobert\n",
       "3  Shai Gilgeous-Alexander  Bojan Bogdanovic           Nikola Jokic\n",
       "4          Devonte' Graham      Jayson Tatum          Julius Randle\n",
       "5         Donovan Mitchell   De'Andre Hunter       Hassan Whiteside\n",
       "6             Terry Rozier     Miles Bridges          Anthony Davis\n",
       "7            Collin Sexton       T.J. Warren         Andre Drummond\n",
       "8           Damian Lillard   Duncan Robinson             Al Horford\n",
       "9               Trae Young        Joe Harris  Giannis Antetokounmpo"
      ]
     },
     "execution_count": 23,
     "metadata": {},
     "output_type": "execute_result"
    }
   ],
   "source": [
    "top_10_lists = []\n",
    "for label in range(k):\n",
    "    top_10_lists.append(get_top_players(minutes_played, label))\n",
    "pd.DataFrame(top_10_lists).transpose()"
   ]
  },
  {
   "cell_type": "code",
   "execution_count": 24,
   "metadata": {},
   "outputs": [
    {
     "name": "stdout",
     "output_type": "stream",
     "text": [
      "Group 0: 140 elements\n",
      "Group 1: 250 elements\n",
      "Group 2: 124 elements\n"
     ]
    },
    {
     "data": {
      "text/plain": [
       "[None, None, None]"
      ]
     },
     "execution_count": 24,
     "metadata": {},
     "output_type": "execute_result"
    }
   ],
   "source": [
    "cluster, counts = np.unique(labels, return_counts=True)\n",
    "[print('Group ' + str(cluster[i]) + ': ' + str(counts[i]) + ' elements') for i in range(len(cluster))]"
   ]
  },
  {
   "cell_type": "code",
   "execution_count": 25,
   "metadata": {},
   "outputs": [],
   "source": [
    "labeled_X = new_X.copy()\n",
    "labeled_X.insert(0, 'LABELS', labels)"
   ]
  },
  {
   "cell_type": "markdown",
   "metadata": {},
   "source": [
    "We'll plot the distribution for each cluster and feature combination with the reduced feature set."
   ]
  },
  {
   "cell_type": "code",
   "execution_count": 26,
   "metadata": {
    "scrolled": false
   },
   "outputs": [
    {
     "data": {
      "image/png": "[encoded data removed]",
      "text/plain": [
       "<Figure size 1440x288 with 3 Axes>"
      ]
     },
     "metadata": {
      "needs_background": "light"
     },
     "output_type": "display_data"
    }
   ],
   "source": [
    "median_k = np.median(list(range(k)))\n",
    "line_colors = ['c', 'darkorange', 'm']\n",
    "fig, axs = plt.subplots(ncols=3, figsize=(20, 4))\n",
    "for p in range(3):\n",
    "    var_names = list(new_X.columns[8*p: 8*(p+1)])\n",
    "    for i in range(k):\n",
    "        temp_df = labeled_X[labeled_X['LABELS'] == i]\n",
    "        for j in range((8*p+1), 8*(p+1)+1):\n",
    "            if j >= temp_df.shape[1]:\n",
    "                break\n",
    "            feat_num = j\n",
    "            col_data = temp_df.iloc[:,feat_num]\n",
    "            col_stats = col_data.describe()\n",
    "            x_val = feat_num + 0.1*(i - median_k)\n",
    "            axs[p].plot([x_val, x_val], [col_stats['25%'], col_stats['75%']], line_colors[i], linewidth=2)\n",
    "            axs[p].plot(x_val, col_stats['mean'], 'k.')\n",
    "            axs[p].set_ylim([0,1])\n",
    "    axs[p].set_xticklabels(['']+var_names)\n",
    "    plt.setp(axs[p].xaxis.get_majorticklabels(), rotation=70)\n"
   ]
  },
  {
   "cell_type": "markdown",
   "metadata": {},
   "source": [
    "These graphics give us good insights into the characteristics of each player group. Here are some highlights:\n",
    "\n",
    "Group 0:\n",
    "- smaller size (for an NBA player)\n",
    "- typically shoot the most\n",
    "- time of possession is much longer\n",
    "- dribble a lot\n",
    "\n",
    "Group 1:\n",
    "- average size\n",
    "- the only thing they do most is three point attempts\n",
    "- the only thing they do least is touches in a game\n",
    "- I wish I had more to say. I'm sure they're great guys.\n",
    "\n",
    "Group 2:\n",
    "- bigger size\n",
    "- shoot the most within eight feet of the hoop\n",
    "- defend FGA the most\n",
    "- dribble the least"
   ]
  },
  {
   "cell_type": "markdown",
   "metadata": {},
   "source": [
    "## What do we do with this information?\n",
    "The dialogue surrounding the game should evolve with the game itself. What is a Power Forward? I still think of Karl Malone (who played in the 90's) when I hear the term. His style - and that of his colleagues - fit the name \"Power Forward\". They were strong, large players that played up front by the basket. They differed from a Center in the way they would run the court and shoot 12 foot jump shots. During that era the differences of all five players seemed more distinct. Today's game doesn't feel that way. \n",
    "\n",
    "The five players playing on a team look like a combination of the players described above. Some of the most common terms for the three groups above are Guards, Three and D's, and Bigs, respectively. Let's look at the team with the best regular season record from the 19-20 season and their most played 5-man lineup."
   ]
  },
  {
   "cell_type": "code",
   "execution_count": 47,
   "metadata": {},
   "outputs": [
    {
     "data": {
      "text/plain": [
       "PLAYER\n",
       "Giannis Antetokounmpo    2\n",
       "Eric Bledsoe             0\n",
       "Brook Lopez              2\n",
       "Wesley Matthews          1\n",
       "Khris Middleton          0\n",
       "Name: LABELS, dtype: int32"
      ]
     },
     "execution_count": 47,
     "metadata": {},
     "output_type": "execute_result"
    }
   ],
   "source": [
    "bucks_lineup = ['Giannis Antetokounmpo', 'Eric Bledsoe', 'Brook Lopez', 'Wesley Matthews', 'Khris Middleton']\n",
    "labeled_X.loc[bucks_lineup, 'LABELS']"
   ]
  },
  {
   "cell_type": "markdown",
   "metadata": {},
   "source": [
    "This team benefits from Giannis Antetokounmpo playing as a Big with skills of a Guard. The other Big on this team, Brook Lopez, is also unusual for a Big. He is an excellent three point shooter despite being a Big. This is a well balanced team that has pieces that fit well together. "
   ]
  },
  {
   "cell_type": "markdown",
   "metadata": {},
   "source": [
    "I think the natural next step is to wonder if there is a five person combination of these three types of players that performs better than the rest. To do that you need to control for player skill variability as well as coaching style. Successfuly answering that question would be a great tool for team decision makers when making roster additions or changes. I'll leave that for the next project. \n",
    "\n",
    "I think using features that tell the story of what a player does instead of how well they do it produces more intuitive clustering of players. This establishes a good foundation for further research into what an ideal five person line-up looks like."
   ]
  },
  {
   "cell_type": "markdown",
   "metadata": {},
   "source": [
    "## Appendix A: Principal Component Analysis\n",
    "Despite the feature space not being large we'll do PCA for visual reasons and in case we can glean more from the data. "
   ]
  },
  {
   "cell_type": "code",
   "execution_count": 48,
   "metadata": {},
   "outputs": [],
   "source": [
    "from sklearn.decomposition import PCA\n",
    "pca = PCA(n_components=10)\n",
    "principalComponents = pca.fit_transform(X)"
   ]
  },
  {
   "cell_type": "code",
   "execution_count": 51,
   "metadata": {
    "scrolled": false
   },
   "outputs": [
    {
     "data": {
      "text/plain": [
       "([<matplotlib.axis.XTick at 0x1807e60dbc8>,\n",
       "  <matplotlib.axis.XTick at 0x1807e60d288>,\n",
       "  <matplotlib.axis.XTick at 0x1807e5deac8>,\n",
       "  <matplotlib.axis.XTick at 0x1807e648cc8>,\n",
       "  <matplotlib.axis.XTick at 0x1807e64e3c8>,\n",
       "  <matplotlib.axis.XTick at 0x1807e64eb08>,\n",
       "  <matplotlib.axis.XTick at 0x1807e6542c8>,\n",
       "  <matplotlib.axis.XTick at 0x1807e654a08>,\n",
       "  <matplotlib.axis.XTick at 0x1807e659188>,\n",
       "  <matplotlib.axis.XTick at 0x1807e659ac8>],\n",
       " <a list of 10 Text xticklabel objects>)"
      ]
     },
     "execution_count": 51,
     "metadata": {},
     "output_type": "execute_result"
    },
    {
     "data": {
      "image/png": "[encoded data removed]",
      "text/plain": [
       "<Figure size 432x288 with 1 Axes>"
      ]
     },
     "metadata": {
      "needs_background": "light"
     },
     "output_type": "display_data"
    }
   ],
   "source": [
    "features = range(pca.n_components_)\n",
    "plt.bar(features, pca.explained_variance_ratio_, color='darkorange')\n",
    "plt.xlabel('PCA features')\n",
    "plt.ylabel('variance %')\n",
    "plt.xticks(features)"
   ]
  },
  {
   "cell_type": "code",
   "execution_count": 52,
   "metadata": {},
   "outputs": [
    {
     "data": {
      "text/plain": [
       "Text(0, 0.5, 'PCA 2')"
      ]
     },
     "execution_count": 52,
     "metadata": {},
     "output_type": "execute_result"
    },
    {
     "data": {
      "image/png": "[encoded data removed]",
      "text/plain": [
       "<Figure size 432x288 with 1 Axes>"
      ]
     },
     "metadata": {
      "needs_background": "light"
     },
     "output_type": "display_data"
    }
   ],
   "source": [
    "PCA_components = pd.DataFrame(principalComponents)\n",
    "plt.scatter(PCA_components[0], PCA_components[1], alpha=.1, color='darkorange')\n",
    "plt.xlabel('PCA 1')\n",
    "plt.ylabel('PCA 2')"
   ]
  },
  {
   "cell_type": "markdown",
   "metadata": {},
   "source": [
    "## Appendix B: Weighting Features"
   ]
  }
 ],
 "metadata": {
  "kernelspec": {
   "display_name": "Python 3",
   "language": "python",
   "name": "python3"
  },
  "language_info": {
   "codemirror_mode": {
    "name": "ipython",
    "version": 3
   },
   "file_extension": ".py",
   "mimetype": "text/x-python",
   "name": "python",
   "nbconvert_exporter": "python",
   "pygments_lexer": "ipython3",
   "version": "3.7.4"
  }
 },
 "nbformat": 4,
 "nbformat_minor": 2
}
